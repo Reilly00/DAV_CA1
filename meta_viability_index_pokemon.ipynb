{
 "cells": [
  {
   "cell_type": "markdown",
   "metadata": {},
   "source": [
    "# 1. Theoretical Framework\n",
    "\n",
    "## Introduction\n",
    "\n",
    "**Pokémon** is a long-running multimedia franchise developed by Game Freak and published by Nintendo, centered around capturing, training, and battling fictional creatures called Pokémon. While the franchise began with turn-based RPGs, it has evolved into a global phenomenon encompassing video games, trading cards, television shows, and competitive gaming communities. Within the games themselves, players take on the role of Pokémon Trainers, building teams of creatures with unique abilities, statistics, and move sets in order to battle other trainers.\n",
    "\n",
    "In the competitive scene, particularly through platforms such as [Pokémon Showdown](https://pokemonshowdown.com/), battles are conducted using meticulously balanced rulesets curated by the community (notably Smogon University). Players construct teams of six Pokémon chosen from a pool of hundreds, each with distinct roles, strategies, and limitations. Due to this variety, the competitive metagame is both dynamic and complex, requiring players to adapt to frequent shifts in viability and usage.\n",
    "\n",
    "Despite this complexity, there is currently no single metric that objectively quantifies a Pokémon’s overall viability within a tier. Viability is influenced not only by raw strength but also by factors such as usage trends, versatility, and synergy with other team members. This project proposes a **Meta Viability Index (MVI)**, a composite indicator designed to capture these multidimensional aspects and produce a single score representing a Pokémon’s competitive relevance in a specific tier (More on tiers later).\n",
    "\n",
    "## Justification for the Index\n",
    "\n",
    "Competitive viability in Pokémon is a multidimensional concept. It cannot be fully captured by a single attribute like base stats or usage percentage. Instead, a Pokémon’s effectiveness in the metagame is shaped by its consistency, versatility, and how well it synergizes with common team structures. These aspects, though individually measurable, are rarely combined into a single interpretable metric.\n",
    "\n",
    "Currently, the competitive community, particularly Smogon University, uses tier systems based on both usage statistics and expert discussions to group Pokémon. While effective in practice, these tier lists do not provide a scoring mechanism for comparing Pokémon within a tier or understanding the marginal differences between them. As a result, players often rely on subjective opinions when evaluating Pokémon for their teams.\n",
    "\n",
    "Composite indicators are not new to games. In football video games like *FIFA*, players are scored using overall ratings that aggregate multiple statistics such as speed, stamina, passing, and shooting. Similarly, MOBA titles like League of Legends use matchmaking rating (MMR) and champion win rates as blended indicators to estimate performance and balance. These systems combine variables into a single numerical value to inform gameplay decisions, matchmaking, and tier lists.\n",
    "\n",
    "This project follows a similar philosophy by introducing a composite indicator to competitive Pokémon. The proposed **Meta Viability Index (MVI)** integrates usage statistics, performance trends, and role flexibility into a unified score. This approach allows for transparent, data-driven comparison of Pokémon and helps capture the complexity of competitive viability in a structured and objective way.\n",
    "\n",
    "## Data Source\n",
    "\n",
    "The primary data used in this index comes from [Smogon.com](https://www.smogon.com/stats/), which publishes monthly statistics from Pokémon Showdown, an online battle simulator widely used by the competitive community. These statistics are:\n",
    "- **Large-scale** (millions of battles per month),\n",
    "- **Current** (updated monthly),\n",
    "- **Representative** of actual meta usage,\n",
    "- **Structured** and consistent for processing.\n",
    "\n",
    "As expert interviews or official Pokémon Company data are unavailable, these community-driven sources represent the most authoritative and widely accepted datasets available for this kind of analysis."
   ]
  }
 ],
 "metadata": {
  "language_info": {
   "name": "python"
  }
 },
 "nbformat": 4,
 "nbformat_minor": 2
}
